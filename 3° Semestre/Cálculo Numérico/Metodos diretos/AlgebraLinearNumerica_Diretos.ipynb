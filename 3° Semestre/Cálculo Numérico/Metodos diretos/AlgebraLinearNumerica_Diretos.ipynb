{
  "cells": [
    {
      "cell_type": "code",
      "execution_count": 1,
      "metadata": {},
      "outputs": [
        {
          "name": "stdout",
          "output_type": "stream",
          "text": [
            "Defaulting to user installation because normal site-packages is not writeable\n",
            "Requirement already satisfied: numpy in /home/joseg/.local/lib/python3.10/site-packages (2.2.3)\n"
          ]
        }
      ],
      "source": [
        "!pip install numpy"
      ]
    },
    {
      "cell_type": "markdown",
      "metadata": {
        "id": "rgJ-vF7gGSeh"
      },
      "source": [
        "## Resolução numérica de sistemas lineares - Métodos diretos"
      ]
    },
    {
      "cell_type": "markdown",
      "metadata": {
        "id": "oGTNbsoZiBRN"
      },
      "source": [
        "Bibliografia:\n",
        "\n",
        "* Quarteroni-Saleri, Capítulo 5.\n",
        "* Livro Mathematics for Machine Learning, Cap. 2.   https://mml-book.github.io/book/mml-book.pdf\n",
        "* Slides do Prof. Afonso Paiva Neto.\n",
        "* Canal de YouTube do Prof. Afonso Paiva Neto."
      ]
    },
    {
      "cell_type": "markdown",
      "metadata": {
        "id": "KSVjMQkMd8MZ"
      },
      "source": [
        "### Revisão de álgebra linear"
      ]
    },
    {
      "cell_type": "markdown",
      "metadata": {
        "id": "m850EyeAeGEq"
      },
      "source": [
        "**Definição:** Uma função $f:X \\to Y$ é **linear** se\n",
        "\n",
        "$$\n",
        "      f(\\alpha u + \\beta v)=\\alpha\\,f(u)+\\beta f(v),\\quad \\forall u,v\\in X,~\\forall \\alpha,\\beta \\in \\mathbb{R}.\n",
        "$$\n",
        "\n",
        "**Exemplos:** $f(x)=0$ é linear. $f(x)=2x$ é linear. $f(x,y)=3x+4y$ é linear. $f(x)=5x+1$ **não é** linear, mas é **afim**.\n",
        "\n",
        "As funções lineares são as que satisfazem **aditividade** ($f(u+v)=f(u)+f(v)$) e **homogeneidade** ($f(\\alpha u)=\\alpha\\,f(u)$)\n"
      ]
    },
    {
      "cell_type": "markdown",
      "metadata": {
        "id": "jlQS0Jp_fmhb"
      },
      "source": [
        "**Teorema:** Se $f:\\mathbb{R}^m \\to \\mathbb{R}^n$ é linear, então existe uma matriz $A$ de $n$ linhas e $m$ colunas tal que\n",
        "$$\n",
        "      f(x)=Ax,\\qquad \\forall\\,x\\,\\in\\,\\mathbb{R}^m.\n",
        "$$\n",
        "\n",
        "A coluna $j=1,\\ldots,m$ de $A$ é dada por\n",
        "    \\begin{equation}\n",
        "      \\mbox{col}_j(A)=f(e_j),\\quad e_j=(0,0,\\ldots,0,1,0,\\ldots)^T,\n",
        "    \\end{equation}\n",
        "com o 1 na posição $j$."
      ]
    },
    {
      "cell_type": "markdown",
      "metadata": {
        "id": "RWWV4nG5x8TF"
      },
      "source": [
        "**Exercício:** Seja $y=f(x)$ uma função que toma $x$ (vetor de dimensão $m$) e produz o vetor $y$ (de dimensão $n$). Dessa função temos apenas o código. Seja $X\\subset \\mathbb{R}^m$ o domínio de $f$ (o conjunto de vetores nos quais será usada a função $f$), por exemplo, $X = \\{ x\\in \\mathbb{R}^m\\,|\\, 0 \\leq x_i \\leq L, ~i=1,\\ldots,m \\}$. Sugerir um \"teste de linearidade\", que verifique se $f$ é ou não linear em $X$.\n",
        "\n",
        "O propósito desse exercício é pensar a linearidade como uma propriedade verificável das funções, sem depender da expressão algébrica."
      ]
    },
    {
      "cell_type": "code",
      "execution_count": 4,
      "metadata": {
        "colab": {
          "base_uri": "https://localhost:8080/"
        },
        "id": "YI4BJuYU1hLG",
        "outputId": "887cfd65-a201-4440-f0d5-6f93cdc129d5"
      },
      "outputs": [
        {
          "name": "stdout",
          "output_type": "stream",
          "text": [
            "f_linear é linear? True\n",
            "Falha na homogeneidade para u = [7.2966763  5.93145606] e c = 0.6984697708376257\n",
            "f_nao_linear é linear? False\n",
            "funcao é linear? True\n",
            "Falha na aditividade para u = [8.4284255  6.05447346] e v = [0.80471072 1.4658072 ]\n",
            "funcao2 é linear? False\n"
          ]
        }
      ],
      "source": [
        "import numpy as np\n",
        "\n",
        "def funcao(x):\n",
        "  y=np.zeros(2)\n",
        "  y[0]=float(x.sum())\n",
        "  y[1]=float(x.mean())\n",
        "  return y\n",
        "\n",
        "def funcao2(x):\n",
        "  y=np.zeros(3)\n",
        "  y[0]=float(x.sum())\n",
        "  y[1]=float(x.mean())\n",
        "  y[2]=np.tanh(0.01*x[0])\n",
        "  return y\n",
        "\n",
        "def verifica_linearidade(f, L, dim_in, dim_out, num_testes=10):\n",
        "    \"\"\"\n",
        "    Testa se uma função f: R^m -> R^n é linear, verificando aditividade e homogeneidade.\n",
        "\n",
        "    Parâmetros:\n",
        "        f: função a ser testada\n",
        "        L: limite superior do domínio de f\n",
        "        dim_in: dimensão do espaço de entrada (m)\n",
        "        dim_out: dimensão do espaço de saída (n)\n",
        "        num_testes: número de testes aleatórios a serem realizados\n",
        "\n",
        "    Retorna:\n",
        "        True se f passar nos testes de linearidade, False caso contrário.\n",
        "\n",
        "    \"\"\"\n",
        "    for _ in range(num_testes):\n",
        "        u = np.random.rand(dim_in)*L #vetor com coordenadas entre 0 e L\n",
        "        v = np.random.rand(dim_in)*L #vetor com coordenadas entre 0 e L\n",
        "        c = np.random.rand()  # escalar aleatório entre 0 e 1\n",
        "\n",
        "        # Teste de aditividade\n",
        "        if max(u+v) < L:\n",
        "          if not np.allclose(f(u + v), f(u) + f(v)):\n",
        "            print(\"Falha na aditividade para u =\", u, \"e v =\", v)\n",
        "            return False\n",
        "\n",
        "        # Teste de homogeneidade\n",
        "        if not np.allclose(f(c * u), c * f(u)):\n",
        "            print(\"Falha na homogeneidade para u =\", u, \"e c =\", c)\n",
        "            return False\n",
        "\n",
        "    return True\n",
        "\n",
        "# Exemplo de função linear f(x) = Ax, onde A é uma matriz fixa\n",
        "A = np.array([[2, 0], [0, 3]])  # Matriz 2x2\n",
        "f_linear = lambda x: A @ x\n",
        "\n",
        "# Exemplo de função não linear f(x) = Ax + b, onde b ≠ 0\n",
        "b = np.array([1, -1])\n",
        "f_nao_linear = lambda x: A @ x + b\n",
        "\n",
        "# Testando as funções\n",
        "print(\"f_linear é linear?\", verifica_linearidade(f_linear, 10, 2, 2))\n",
        "print(\"f_nao_linear é linear?\", verifica_linearidade(f_nao_linear, 10, 2, 2))\n",
        "print(\"funcao é linear?\", verifica_linearidade(funcao, 10, 20, 2,20000))\n",
        "print(\"funcao2 é linear?\", verifica_linearidade(funcao2, 10, 2, 3))\n",
        "\n",
        "\n"
      ]
    },
    {
      "cell_type": "markdown",
      "metadata": {
        "id": "cMjFhp2rS6ti"
      },
      "source": [
        "**Exercício:** Seja $B$ um array de $\\mathbb{R}^{r\\times s}$ contendo a intensidade dos pixels de uma imagem de $r\\times s$ pixels. Considere a operação de \"suavização\" da imagem, na qual uma imagem suavizada $C$ é construida a partir de $B$. Especificamente, cada pixel de $C$ é calculado como a média entre o pixel correspondente de $B$ e todos seus vizinhos.\n",
        "\n",
        "* A operação de suavização é linear?\n",
        "* Qual é a matriz que se corresponde com essa operação?\n",
        "\n",
        "Ajuda: A matriz que procuramos não deveria ter dimensão $(r\\times s)\\times(r\\times s)$?\n",
        "\n"
      ]
    },
    {
      "cell_type": "code",
      "execution_count": 5,
      "metadata": {
        "colab": {
          "base_uri": "https://localhost:8080/",
          "height": 847
        },
        "id": "wI1PJIltVoDB",
        "outputId": "09cfb279-243e-4cf3-f9f1-76758be9def5"
      },
      "outputs": [
        {
          "data": {
            "image/png": "[encoded data removed]",
            "text/plain": [
              "<Figure size 640x480 with 1 Axes>"
            ]
          },
          "metadata": {},
          "output_type": "display_data"
        },
        {
          "data": {
            "image/png": "[encoded data removed]",
            "text/plain": [
              "<Figure size 640x480 with 1 Axes>"
            ]
          },
          "metadata": {},
          "output_type": "display_data"
        }
      ],
      "source": [
        "import numpy as np\n",
        "import matplotlib.pyplot as plt\n",
        "\n",
        "B=np.random.rand(50,20)\n",
        "plt.imshow(B,cmap='gray')\n",
        "plt.show()\n",
        "\n",
        "def suaviza(B):\n",
        "\n",
        "  C=np.zeros(B.shape)\n",
        "  r=B.shape[0]\n",
        "  s=B.shape[1]\n",
        "  for i in range(1,r-1):\n",
        "    for j in range(1,s-1):\n",
        "      C[i,j]=(B[i-1,j-1]+B[i-1,j]+B[i-1,j+1]+B[i,j-1]+B[i,j]+B[i,j+1]+B[i+1,j-1]+B[i+1,j]+B[i+1,j+1])/9\n",
        "\n",
        "  #plt.imshow(C,cmap='gray')\n",
        "  #plt.show()\n",
        "\n",
        "  for i in range(1,r-1):\n",
        "    C[i,0]=(B[i-1,0]+B[i-1,1]+B[i,0]+B[i,1]+B[i+1,0]+B[i+1,1])/6\n",
        "    C[i,s-1]=(B[i-1,s-1]+B[i-1,s-2]+B[i,s-1]+B[i,s-2]+B[i+1,s-1]+B[i+1,s-2])/6\n",
        "\n",
        "  for j in range(1,s-1):\n",
        "    C[0,j]=(B[0,j-1]+B[0,j]+B[0,j+1]+B[1,j-1]+B[1,j]+B[1,j+1])/6\n",
        "    C[r-1,j]=(B[r-1,j-1]+B[r-1,j]+B[r-1,j+1]+B[r-2,j-1]+B[r-2,j]+B[r-2,j+1])/6\n",
        "\n",
        "  C[0,0]=(B[0,0]+B[0,1]+B[1,0]+B[1,1])/4\n",
        "  C[0,s-1]=(B[0,s-1]+B[0,s-2]+B[1,s-1]+B[1,s-2])/4\n",
        "  C[r-1,0]=(B[r-1,0]+B[r-1,1]+B[r-2,0]+B[r-2,1])/4\n",
        "  C[r-1,s-1]=(B[r-1,s-1]+B[r-1,s-2]+B[r-2,s-1]+B[r-2,s-2])/4\n",
        "\n",
        "  return C\n",
        "\n",
        "C=suaviza(B)\n",
        "\n",
        "plt.imshow(C,cmap='gray')\n",
        "plt.show()\n",
        "\n"
      ]
    },
    {
      "cell_type": "code",
      "execution_count": 6,
      "metadata": {
        "colab": {
          "base_uri": "https://localhost:8080/",
          "height": 617
        },
        "id": "qwb7XMCCcfPU",
        "outputId": "55954ab2-617c-4515-c249-ff78fefca660"
      },
      "outputs": [
        {
          "data": {
            "image/png": "[encoded data removed]",
            "text/plain": [
              "<Figure size 640x480 with 1 Axes>"
            ]
          },
          "metadata": {},
          "output_type": "display_data"
        },
        {
          "data": {
            "image/png": "[encoded data removed]",
            "text/plain": [
              "<Figure size 640x480 with 1 Axes>"
            ]
          },
          "metadata": {},
          "output_type": "display_data"
        },
        {
          "name": "stdout",
          "output_type": "stream",
          "text": [
            "2.220446049250313e-16\n"
          ]
        }
      ],
      "source": [
        "A=np.random.rand(5,10)\n",
        "B=np.random.rand(5,10)\n",
        "\n",
        "C=suaviza(A+B)\n",
        "D=suaviza(A)+suaviza(B)\n",
        "\n",
        "plt.imshow(C,cmap='gray')\n",
        "plt.show()\n",
        "plt.imshow(D,cmap='gray')\n",
        "plt.show()\n",
        "print(np.max(np.abs(C-D)))\n"
      ]
    },
    {
      "cell_type": "code",
      "execution_count": 29,
      "metadata": {},
      "outputs": [
        {
          "data": {
            "image/png": "[encoded data removed]",
            "text/plain": [
              "<Figure size 400x400 with 1 Axes>"
            ]
          },
          "metadata": {},
          "output_type": "display_data"
        },
        {
          "data": {
            "image/png": "[encoded data removed]",
            "text/plain": [
              "<Figure size 400x400 with 1 Axes>"
            ]
          },
          "metadata": {},
          "output_type": "display_data"
        }
      ],
      "source": [
        "import numpy as np\n",
        "import matplotlib.pyplot as plt\n",
        "from PIL import Image\n",
        "\n",
        "# Definindo as dimensões da imagem\n",
        "largura, altura = 100, 100  # Você pode alterar esses valores conforme desejar\n",
        "\n",
        "# Gerando uma imagem RGB aleatória com pixels definidos\n",
        "# Cada pixel terá valores entre 0 e 255 para R, G e B\n",
        "img_data = np.random.randint(0, 256, (altura, largura, 3), dtype=np.uint8)\n",
        "\n",
        "# Convertendo o array NumPy para uma imagem PIL\n",
        "imagem = Image.fromarray(img_data)\n",
        "\n",
        "# Exibindo a imagem original\n",
        "plt.figure(figsize=(4,4))\n",
        "plt.imshow(imagem)\n",
        "plt.title(\"Imagem Original\")\n",
        "plt.axis('off')\n",
        "plt.show()\n",
        "\n",
        "# Criando uma nova imagem para armazenar o resultado filtrado\n",
        "nova_imagem = Image.new(\"RGB\", (largura, altura))\n",
        "\n",
        "# Aplicando o filtro de média (blur) para cada pixel da imagem\n",
        "for x in range(largura):\n",
        "    for y in range(altura):\n",
        "        soma_r = 0\n",
        "        soma_g = 0\n",
        "        soma_b = 0\n",
        "        contagem = 0\n",
        "\n",
        "        # Percorre a vizinhança 3x3 ao redor do pixel (x, y)\n",
        "        for dx in range(-1,2):\n",
        "            for dy in range(-1, 2):\n",
        "                nx = x + dx\n",
        "                ny = y + dy\n",
        "\n",
        "                # Verifica se as coordenadas (nx, ny) estão dentro dos limites da imagem\n",
        "                if 0 <= nx < largura and 0 <= ny < altura:\n",
        "                    pixel_valor = imagem.getpixel((nx, ny))\n",
        "                    soma_r += pixel_valor[0]\n",
        "                    soma_g += pixel_valor[1]\n",
        "                    soma_b += pixel_valor[2]\n",
        "                    contagem += 1\n",
        "\n",
        "        # Calcula a média dos canais para a vizinhança\n",
        "        media_r = soma_r // contagem\n",
        "        media_g = soma_g // contagem\n",
        "        media_b = soma_b // contagem\n",
        "\n",
        "        # Define o pixel (x, y) da nova imagem com a cor média calculada\n",
        "        nova_imagem.putpixel((x, y), (media_r, media_g, media_b))\n",
        "\n",
        "# Exibindo a imagem filtrada\n",
        "plt.figure(figsize=(4,4))\n",
        "plt.imshow(nova_imagem)\n",
        "plt.title(\"Imagem Filtrada (Média)\")\n",
        "plt.axis('off')\n",
        "plt.show()\n"
      ]
    },
    {
      "cell_type": "markdown",
      "metadata": {
        "id": "NqW23cvDuBAf"
      },
      "source": [
        "**Produto Matriz-Vetor:** Multiplicar $A$ por $x$ equivale a combinar linearmente as colunas de $A$ com os coeficientes dados pelos elementos de $x$, i.e.,\n",
        "$$\n",
        "Ax=\\sum_{j=1}^m x_j \\mbox{col}_j(A)\n",
        "$$"
      ]
    },
    {
      "cell_type": "markdown",
      "metadata": {
        "id": "b2dwfZglvQLt"
      },
      "source": [
        "A componente $i$ de $Ax$, i.e., $(Ax)_i$, é dado por\n",
        "$$\n",
        "(Ax)_i = \\sum_{j=1}^m x_j \\left ( \\mbox{col}_j(A) \\right )_i = \\sum_{j=1}^m x_j A_{ij}\n",
        "$$\n",
        "O segundo índice de $A$ é \"contraído\" com o único índice de $x$."
      ]
    },
    {
      "cell_type": "markdown",
      "metadata": {
        "id": "HTw_eZj_Yj4i"
      },
      "source": [
        "**Interpretação com Matrizes de Dados:** Em estatística é costume chamar a matriz de dados de $X$.\n",
        "\n",
        "* Cada uma das $n$ linhas de $X$ corresponde a um elemento amostral, que pode ser uma pessoa, uma transação comercial, uma medição, etc.\n",
        "* Cada uma das $m$ colunas de $X$ corresponde a uma das variáveis que são coletadas para cada elemento (features). Por exemplo, em transações online podem ser o tempo, os dados do comprador, o valor do bem comprado, o número de parcelas solicitado, etc.\n",
        "* Assim, cada linha de $X$ é um ponto $x\\in\\mathbb{R}^m$ com os valores das variáveis para esse elemento.\n",
        "* Em aprendizado supervisionado, temos uma resposta $y\\in \\mathbb{R}$, com um valor por elemento amostral.\n",
        "\n",
        "Assim, o modelo linear com ruído aditivo $\\varepsilon$ para o sistema é\n",
        "$$\n",
        "y = x^T \\beta + \\varepsilon~=~\\beta_1 x_1 + \\beta_2 x_2 + \\ldots +\\beta_m x_m +\\varepsilon\n",
        "$$\n",
        "Isto acontece para cada linha de $X$, levando à equação matricial\n",
        "$$\n",
        "X\\,\\beta + \\varepsilon = y~.\n",
        "$$\n",
        "Em ausência de ruído, o vetor resposta $y$ deve satisfazer o sistema linear\n",
        "$$\n",
        "X\\,\\beta = y\n",
        "$$\n",
        "onde **a incógnita é o vetor de coeficientes $\\beta$**.\n",
        "\n"
      ]
    },
    {
      "cell_type": "markdown",
      "metadata": {
        "id": "1Hf-C5qhwlEJ"
      },
      "source": [
        "**Produto Vetor linha-Matriz:** O produto $y^T A$, onde $y\\in Y=\\mathbb{R}^n$, dá por resultado um vetor linha $y^TA\\in\\mathbb{R}^m$ que é uma combinação linear das linhas de $A$, com coeficientes dados por $y$."
      ]
    },
    {
      "cell_type": "code",
      "execution_count": 7,
      "metadata": {
        "colab": {
          "base_uri": "https://localhost:8080/"
        },
        "id": "fuh7csn7xdRd",
        "outputId": "7b1bdb45-c7fb-4122-8dfd-6f881ad2483e"
      },
      "outputs": [
        {
          "name": "stdout",
          "output_type": "stream",
          "text": [
            "[[9 5 6 9 9]\n",
            " [1 5 2 8 5]\n",
            " [8 2 3 4 5]]\n",
            "[7 3 6 4 0]\n",
            "[150  66  96]\n",
            "[150  66  96]\n",
            "[150  66  96]\n",
            "[6 5 9]\n",
            "[131  73  73 130 124]\n",
            "[131  73  73 130 124]\n",
            "[131  73  73 130 124]\n"
          ]
        }
      ],
      "source": [
        "import numpy as np\n",
        "A=np.random.randint(0,10,(3,5))\n",
        "print(A)\n",
        "x=np.random.randint(0,10,5)\n",
        "print(x)\n",
        "print(A@x)\n",
        "print(np.dot(A,x))\n",
        "print(A.dot(x))\n",
        "##print(np.dot(x,A)) ## essa dá erro\n",
        "y=np.random.randint(0,10,3)\n",
        "print(y)\n",
        "print(y.T@A)\n",
        "print(np.dot(y.T,A))\n",
        "print(np.dot(y,A)) ## !!\n"
      ]
    },
    {
      "cell_type": "markdown",
      "metadata": {
        "id": "BDk2g1CL0ByV"
      },
      "source": [
        "Verifiquemos a obtenção da coluna $j$ fazendo $Ae_j$:"
      ]
    },
    {
      "cell_type": "code",
      "execution_count": 8,
      "metadata": {
        "colab": {
          "base_uri": "https://localhost:8080/"
        },
        "id": "0n2AdczRzvjg",
        "outputId": "5552b05c-8f71-489a-c04d-84895b5377a2"
      },
      "outputs": [
        {
          "name": "stdout",
          "output_type": "stream",
          "text": [
            "[[7 8 8 2 7]\n",
            " [7 5 9 2 8]\n",
            " [2 3 2 9 2]]\n",
            "[7 8 2]\n",
            "2\n",
            "[0. 0. 1. 0. 0.]\n",
            "[8. 9. 2.]\n"
          ]
        }
      ],
      "source": [
        "import numpy as np\n",
        "A=np.random.randint(0,10,(3,5))\n",
        "print(A)\n",
        "print(A[0:3,4])\n",
        "j=np.random.randint(0,5)\n",
        "print(j)\n",
        "ej=np.zeros(5)\n",
        "ej[j]=1\n",
        "print(ej)\n",
        "print(A@ej)"
      ]
    },
    {
      "cell_type": "markdown",
      "metadata": {
        "id": "aei4cee-KNtY"
      },
      "source": [
        "**Imagem ou espaço coluna de uma matriz:** (\"range\", em inglês) $\\mbox{Im}(A)$, ou $\\mbox{Col}(A)$, é o conjunto (espaço vetorial) de todos os vetores de $Y=\\mathbb{R}^n$ que podem ser obtidos como combinações lineares das colunas de $A$.\n",
        "\n",
        "$~$\n",
        "\n",
        "$$\n",
        "\\mbox{Im}(A) = \\quad\n",
        "\\left \\{\n",
        "  w\\in \\mathbb{R}^n ~|~\\exists x\\in\\mathbb{R}^m~\\mbox{ tal que } w = \\sum_j x_j \\mbox{col}_j(A)\n",
        "  \\right \\}\n",
        "  \\quad = \\quad\n",
        "\\left \\{\n",
        "  w\\in \\mathbb{R}^n ~|~\\exists x\\in\\mathbb{R}^m~\\mbox{ tal que } w = A x\n",
        "  \\right \\}\n",
        "$$"
      ]
    },
    {
      "cell_type": "markdown",
      "metadata": {
        "id": "JZXdPEDEMNRM"
      },
      "source": [
        "**Posto de uma matriz:** A dimensão de $\\mbox{Im}(A)$ é chamada de **posto** (\"rank\") da matriz, $\\mbox{posto}(A)$. É possível provar que\n",
        "$$\n",
        "\\mbox{posto}(A) \\leq \\min \\{ m, n \\}~.\n",
        "$$\n",
        "\n",
        "$~$\n",
        "\n",
        "A matriz é dita **de posto completo** se $\\mbox{posto}(A)=\\min \\{m,n\\}$."
      ]
    },
    {
      "cell_type": "markdown",
      "metadata": {
        "id": "xPSXsGU9Pg5W"
      },
      "source": [
        "**Núcleo ou espaço nulo de uma matriz:** (\"Kernel\" ou \"null space\")\n",
        "\n",
        "$$\n",
        "\\mbox{Nu}(A) = \\left \\{\n",
        "  x\\in X ~|~Ax = 0\n",
        "  \\right \\}\n",
        "  $$\n",
        "  onde $0 \\in \\mathbb{R}^n$. O espaço nulo de uma matriz é espaço vetorial."
      ]
    },
    {
      "cell_type": "markdown",
      "metadata": {
        "id": "jUTRV5OJex8k"
      },
      "source": [
        "**Teorema do Núcleo e da Imagem:** (ou Teorema da Dimensão)\n",
        "\n",
        "$$\n",
        "\\mbox{dim}\\left ( \\mbox{Nu}(A) \\right )\n",
        "+\\mbox{dim}\\left ( \\mbox{Im}(A) \\right ) = m\n",
        "$$"
      ]
    },
    {
      "cell_type": "markdown",
      "metadata": {
        "id": "dLmnRdfN1F8x"
      },
      "source": [
        "###Sistemas lineares de equações"
      ]
    },
    {
      "cell_type": "markdown",
      "metadata": {
        "id": "QE0iPhans6Uk"
      },
      "source": [
        "Um **sistema linear de equações** é uma equação da forma\n",
        "$$\n",
        "f(x) = b\n",
        "$$\n",
        "onde $f:\\mathbb{R}^m\\to \\mathbb{R}^n$ é linear e $b\\in\\mathbb{R}^n$."
      ]
    },
    {
      "cell_type": "markdown",
      "metadata": {
        "id": "PLHz0SH4ta0u"
      },
      "source": [
        "Pelo anterior, o sistema linear pode também ser escrito como\n",
        "$$\n",
        "Ax=b\n",
        "$$\n",
        "ou, também,\n",
        "$$\n",
        "\\sum_{j=1}^m x_j \\mbox{col}_j(A) = b.\n",
        "$$\n",
        "O problema não é senão determinar qual combinação das colunas de $A$ tem por resultado o vetor $b$."
      ]
    },
    {
      "cell_type": "markdown",
      "metadata": {
        "id": "ptFCBD_O0TmC"
      },
      "source": [
        "**Teorema:**\n",
        "\n",
        "Um sistema linear **tem solução** se e só se $b$ pertence a Im$(f)=$Col$(A)$, o espaço de combinações lineares de colunas de $A$.\n",
        "\n",
        "Existindo solução, **ela é unica** se e só se $\\left [ f(x)=0 \\Rightarrow x=0\\right ]$, o que acontece se e só se as colunas de $A$ são **linearmente independentes**, ou, equivalentemente, se $\\mbox{Nu}(A)=0$.\n",
        "\n",
        "**Corolário:** Para um sistema linear ter **solução única para todo lado direito** $b$ ele deve ser **quadrado** ($n=m$) e ter $\\mbox{det}\\, A \\neq 0$.\n",
        "\n",
        "Para uma matriz $A$ quadrada, notavelmente, as colunas são l.i. se e só se as linhas são l.i.\n",
        "    "
      ]
    },
    {
      "cell_type": "markdown",
      "metadata": {
        "id": "2FEWo0Dv3kJX"
      },
      "source": [
        "###Solução de sistemas lineares especiais"
      ]
    },
    {
      "cell_type": "markdown",
      "metadata": {
        "id": "aMNymVoR325L"
      },
      "source": [
        "**Matriz diagonal:**"
      ]
    },
    {
      "cell_type": "code",
      "execution_count": 9,
      "metadata": {
        "colab": {
          "base_uri": "https://localhost:8080/"
        },
        "id": "ZiNAboU15yGH",
        "outputId": "492b7663-5f5f-46ae-bfba-d251795cda59"
      },
      "outputs": [
        {
          "name": "stdout",
          "output_type": "stream",
          "text": [
            "A=\n",
            "[[0 1 2]\n",
            " [3 4 5]\n",
            " [6 7 8]]\n",
            "diag(A)= [0 4 8]\n",
            "diag(A,1)= [1 5]\n",
            "diag(A,-1)= [3 7]\n",
            "B=\n",
            "[[0 0 0]\n",
            " [0 4 0]\n",
            " [0 0 8]]\n",
            "[[10.  0.  0.]\n",
            " [ 0. 14.  0.]\n",
            " [ 0.  0. 18.]]\n"
          ]
        }
      ],
      "source": [
        "import numpy as np\n",
        "\n",
        "A = np.arange(9).reshape((3,3))\n",
        "print('A=')\n",
        "print(A)\n",
        "print('diag(A)=',np.diag(A))\n",
        "print('diag(A,1)=',np.diag(A,1))\n",
        "print('diag(A,-1)=',np.diag(A,-1))\n",
        "B = np.diag(np.diag(A))\n",
        "print('B=')\n",
        "print(B)\n",
        "B=B+10*np.eye(3)\n",
        "print(B)"
      ]
    },
    {
      "cell_type": "code",
      "execution_count": 10,
      "metadata": {
        "colab": {
          "base_uri": "https://localhost:8080/"
        },
        "id": "m2P8iYY367vJ",
        "outputId": "77a3cf91-ed7d-48c5-a158-13ed6592a02f"
      },
      "outputs": [
        {
          "name": "stdout",
          "output_type": "stream",
          "text": [
            "b=\n",
            "[0 1 2]\n",
            "x=\n",
            "[0.         0.07142857 0.11111111]\n",
            "b=\n",
            "[[0]\n",
            " [1]\n",
            " [2]]\n",
            "x=\n",
            "[[0.        ]\n",
            " [0.07142857]\n",
            " [0.11111111]]\n"
          ]
        }
      ],
      "source": [
        "#Resolvendo Bx=b\n",
        "b=np.arange(3).reshape((3,))\n",
        "print('b=')\n",
        "print(b)\n",
        "x=np.linalg.solve(B,b)\n",
        "print('x=')\n",
        "print(x)\n",
        "b=np.arange(3).reshape((3,1))\n",
        "print('b=')\n",
        "print(b)\n",
        "x=np.linalg.solve(B,b)\n",
        "print('x=')\n",
        "print(x)"
      ]
    },
    {
      "cell_type": "code",
      "execution_count": 11,
      "metadata": {
        "colab": {
          "base_uri": "https://localhost:8080/"
        },
        "id": "JiO7I1AS7prf",
        "outputId": "b6b2a3b6-c250-4da8-c740-7ae191d43baf"
      },
      "outputs": [
        {
          "name": "stdout",
          "output_type": "stream",
          "text": [
            "[0.         0.07142857 0.11111111]\n",
            "[[0.        ]\n",
            " [0.07142857]\n",
            " [0.11111111]]\n"
          ]
        }
      ],
      "source": [
        "#Versão mais explícita\n",
        "b=np.arange(3).reshape((3,))\n",
        "D=np.diag(B).reshape((3,))\n",
        "x=b/D\n",
        "print(x)\n",
        "b=np.arange(3).reshape((3,1))\n",
        "D=np.diag(B).reshape((3,1))\n",
        "x=b/D\n",
        "print(x)"
      ]
    },
    {
      "cell_type": "code",
      "execution_count": 12,
      "metadata": {
        "colab": {
          "base_uri": "https://localhost:8080/"
        },
        "id": "ktiPM5UY6pUG",
        "outputId": "9fd1eeaf-7bd8-4643-9371-76c976535c27"
      },
      "outputs": [
        {
          "name": "stdout",
          "output_type": "stream",
          "text": [
            "[[0.        ]\n",
            " [0.07142857]\n",
            " [0.11111111]]\n"
          ]
        }
      ],
      "source": [
        "#Step by step\n",
        "for j in np.arange(3):\n",
        "  x[j]=b[j]/D[j]\n",
        "print(x)"
      ]
    },
    {
      "cell_type": "markdown",
      "metadata": {
        "id": "yMTU8-XT9lvg"
      },
      "source": [
        "**Matriz triangular superior:** Essa matriz é resolvida por substituição regressiva.\n",
        "\n",
        "$$\n",
        "x_i = \\frac{1}{A_{ii}}\\left ( b_i - A_{i,i+1} x_{i+1} - A_{i,i+2} x_{i+2} - \\ldots \\right )\n",
        "$$\n",
        "\n"
      ]
    },
    {
      "cell_type": "code",
      "execution_count": 13,
      "metadata": {
        "colab": {
          "base_uri": "https://localhost:8080/"
        },
        "id": "QgjPxm4T-FPZ",
        "outputId": "b9b1efc1-cd70-48e6-bd7f-859ea386b947"
      },
      "outputs": [
        {
          "name": "stdout",
          "output_type": "stream",
          "text": [
            "A=\n",
            "[[6 7 6]\n",
            " [7 4 4]\n",
            " [3 3 9]]\n",
            "B=\n",
            "[[6 7 6]\n",
            " [0 4 4]\n",
            " [0 0 9]]\n",
            "b=\n",
            "[19  8  9]\n",
            "x=\n",
            "[1. 1. 1.]\n",
            "x=\n",
            "[1. 1. 1.]\n",
            "[1. 1. 1.]\n"
          ]
        }
      ],
      "source": [
        "#função que resolve uma matriz triangular superior\n",
        "def triangular_superior(A,b):\n",
        "  #Notar que a parte triangular inferior não precisa estar em zero\n",
        "  #(Pode ser usada para armazenar o fator L)\n",
        "  n=len(b)\n",
        "  z=np.zeros(n)\n",
        "  z[n-1]=b[n-1]/A[n-1,n-1]\n",
        "  for i in np.arange(n-2,-1,-1):\n",
        "    #print('i=',i,'z=',z)\n",
        "    z[i]=(b[i]-np.dot(A[i,i+1:n],z[i+1:n]))/A[i,i]\n",
        "  return z\n",
        "\n",
        "A=np.random.randint(1,10,(3,3))\n",
        "print('A=')\n",
        "print(A)\n",
        "B=np.triu(A)\n",
        "print('B=')\n",
        "print(B)\n",
        "b=np.dot(B,np.array([1, 1, 1]))\n",
        "print('b=')\n",
        "print(b)\n",
        "x=np.linalg.solve(B,b)\n",
        "print('x=')\n",
        "print(x)\n",
        "x=triangular_superior(B,b)\n",
        "print('x=')\n",
        "print(x)\n",
        "x=triangular_superior(A,b)\n",
        "print(x)\n"
      ]
    },
    {
      "cell_type": "markdown",
      "metadata": {
        "id": "QU01HoLZCOmY"
      },
      "source": [
        "**Matriz triangular inferior:** Essa matriz é resolvida por substituição progressiva."
      ]
    },
    {
      "cell_type": "code",
      "execution_count": 14,
      "metadata": {
        "colab": {
          "base_uri": "https://localhost:8080/"
        },
        "id": "IFfKKcdI9yJc",
        "outputId": "3698d7bb-834e-471f-80ba-b97962d1a096"
      },
      "outputs": [
        {
          "name": "stdout",
          "output_type": "stream",
          "text": [
            "A=\n",
            "[[2 3 6]\n",
            " [5 7 8]\n",
            " [9 5 3]]\n",
            "B=\n",
            "[[1. 0. 0.]\n",
            " [5. 1. 0.]\n",
            " [9. 5. 1.]]\n",
            "b=\n",
            "[ 1.  6. 15.]\n",
            "x=\n",
            "[1. 1. 1.]\n",
            "x=\n",
            "[1. 1. 1.]\n",
            "[1. 1. 1.]\n"
          ]
        }
      ],
      "source": [
        "#função que resolve uma matriz triangular inferior\n",
        "#assumimos que a diagonal é 1, apenas usamos os elementos embaixo da diagonal\n",
        "def triangular_inferior(A,b):\n",
        "  #Notar que a parte triangular superior não precisa estar em zero.\n",
        "  #(Pode ser usada para armazenar o fator U)\n",
        "  n=len(b)\n",
        "  z=np.zeros(n)\n",
        "  z[0]=b[0]\n",
        "  for i in np.arange(1,n):\n",
        "    #print('i=',i,'z=',z)\n",
        "    z[i]=(b[i]-np.dot(A[i,:i],z[:i]))\n",
        "  return z\n",
        "\n",
        "#A=np.random.randint(1,10,(3,3))\n",
        "rng=np.random.default_rng(7858477733)\n",
        "A=rng.integers(low=1,high=10,size=(3,3))\n",
        "print('A=')\n",
        "print(A)\n",
        "B=np.tril(A,-1)\n",
        "B=B+np.eye(3)\n",
        "print('B=')\n",
        "print(B)\n",
        "b=np.dot(B,np.array([1, 1, 1]))\n",
        "print('b=')\n",
        "print(b)\n",
        "x=np.linalg.solve(B,b)\n",
        "print('x=')\n",
        "print(x)\n",
        "x=triangular_inferior(B,b)\n",
        "print('x=')\n",
        "print(x)\n",
        "x=triangular_inferior(A,b)\n",
        "print(x)\n"
      ]
    },
    {
      "cell_type": "markdown",
      "metadata": {
        "id": "SXOmxfNvE289"
      },
      "source": [
        "**Matriz ortogonal:** Lembrar que uma matriz ortogonal é aquela matriz $n \\times n$ tal que\n",
        "$$\n",
        "A^T A = A A^T = \\mbox{Id}_n\n",
        "$$\n",
        "\n",
        "Isto implica que\n",
        "\n",
        "(a) det$(A)=\\pm 1$,\n",
        "\n",
        "(b) $A^{-1}=A^T$,\n",
        "\n",
        "(c) as colunas são base ortonormal de $\\mathbb{R}^n$,\n",
        "\n",
        "(d) as linhas são base ortonormal de $\\mathbb{R}^n$,\n",
        "\n",
        "(e) a solução de $Ax=b$ pode ser obtida multiplicando $b$ por $A^T$, i.e.,\n",
        "\n",
        "$$\n",
        "x = A^T b\n",
        "$$\n"
      ]
    },
    {
      "cell_type": "markdown",
      "metadata": {
        "id": "qrparCuoGPYE"
      },
      "source": [
        "Informação relevante: Toda matriz $A$ pode ser fatorada da forma\n",
        "$$\n",
        "A = Q\\,R\n",
        "$$\n",
        "onde $Q$ é ortogonal e $R$ é triangular superior.\n",
        "\n",
        "O seguinte código gera uma matriz ortogonal aleatória:"
      ]
    },
    {
      "cell_type": "code",
      "execution_count": 15,
      "metadata": {
        "colab": {
          "base_uri": "https://localhost:8080/"
        },
        "id": "s09yMOUpGZ9t",
        "outputId": "cdc5ba2e-e933-46a9-849b-1f620e66015f"
      },
      "outputs": [
        {
          "name": "stdout",
          "output_type": "stream",
          "text": [
            "[[-0.80454939 -0.54803823  0.22881076]\n",
            " [ 0.56594201 -0.82429637  0.0156565 ]\n",
            " [ 0.18002752  0.14209005  0.97334501]]\n",
            "[[ 1.00000000e+00  3.07196096e-17 -2.27204496e-17]\n",
            " [ 3.07196096e-17  1.00000000e+00 -1.84888859e-17]\n",
            " [-2.27204496e-17 -1.84888859e-17  1.00000000e+00]]\n",
            "True\n"
          ]
        }
      ],
      "source": [
        "def random_ortogonal():\n",
        "  rng=np.random.default_rng(7858477733)\n",
        "  A=rng.standard_normal(size=(3,3))\n",
        "  #A=np.random.randn(3,3)\n",
        "  Q, R=np.linalg.qr(A)\n",
        "  return Q\n",
        "\n",
        "A=random_ortogonal()\n",
        "print(A)\n",
        "print(A.T@A)\n",
        "print(np.allclose(A@A.T,np.eye(3,3)))"
      ]
    },
    {
      "cell_type": "code",
      "execution_count": 16,
      "metadata": {
        "colab": {
          "base_uri": "https://localhost:8080/"
        },
        "id": "p3IdHQF9IBh5",
        "outputId": "0e80681e-c210-4c7c-8906-397a0975fb1f"
      },
      "outputs": [
        {
          "name": "stdout",
          "output_type": "stream",
          "text": [
            "[-1.12377686 -0.24269786  1.29546258]\n",
            "[1. 1. 1.]\n",
            "[1. 1. 1.]\n"
          ]
        }
      ],
      "source": [
        "b=A@np.array([1, 1, 1])\n",
        "print(b)\n",
        "x=np.linalg.solve(A,b)\n",
        "print(x)\n",
        "x=A.T@b\n",
        "print(x)"
      ]
    },
    {
      "cell_type": "markdown",
      "metadata": {
        "id": "p-N_YAdoXqO9"
      },
      "source": [
        "###Matrizes de permutação"
      ]
    },
    {
      "cell_type": "markdown",
      "metadata": {
        "id": "ZFLbe3xkeLzi"
      },
      "source": [
        "**Matriz de permutação:** Matriz que tem exatamente um elemento 1 em cada linha e cada coluna, sendo o resto 0.\n",
        "\n",
        "Seja $\\pi=(2,1,3,0)$ uma permutação, e seja $v=(a,b,c,d)$ um vetor (coluna). A permutação inversa é $\\pi^{-1}=(3,1,0,2)$.\n",
        "\n",
        "O vetor (coluna) permutado\n",
        "$$\n",
        "w=P_{\\pi}\\,v\n",
        "$$\n",
        "é definido como sendo\n",
        "$$\n",
        "w[\\pi(k)]=v[k],\\quad k=1,\\ldots,n\n",
        "$$\n",
        "ou, equivalentemente,\n",
        "$$\n",
        "w[k]=v[\\pi^{-1}(k)],\\quad k=1,\\ldots,n.\n",
        "$$\n",
        "Nesse caso particular o resultado é\n",
        "$$\n",
        "w=(d,b,a,c).\n",
        "$$\n",
        "Notar que a permutação é operação linear, representável por uma **matriz de permutação**. Qual?\n",
        "$$\n",
        "P_{\\pi} = \\left ( \\begin{array}{ccc}\n",
        "0 & 0 & 0 & 1 \\\\ 0 & 1 & 0 & 0 \\\\ 1 & 0 & 0 & 0 \\\\ 0 & 0 & 1 & 0\n",
        "\\end{array}\n",
        "  \\right )\n",
        "$$\n",
        "A coluna $j$ da matriz $P_{\\pi}$ contém 0 nos elementos das linhas diferentes de $\\pi(j)$, e 1 na linha $\\pi(j)$. Isto é,\n",
        "$$\n",
        "P_{\\pi}[i,j]=\\delta_{i,\\pi(j)}=\\left \\{\n",
        "  \\begin{array}{ll}\n",
        "  1 & \\mbox{ se } i=\\pi(j) \\\\\n",
        "  0 & \\mbox{ se não}.\n",
        "  \\end{array}\n",
        "  \\right.~.\n",
        "$$\n",
        "As matrizes de permutação tem determinante $\\mbox{det}(P_{\\pi})=\\pm 1$. São inversíveis. A inversa é\n",
        "$$\n",
        "P_{\\pi}^{-1}=P_{\\pi}^T~.\n",
        "$$\n",
        "As matrizes de permutação são ortogonais!\n",
        "Assim, se $A=P_{\\pi}$, resolvemos o sistema $Ax=b$ fazendo\n",
        "$$\n",
        "x = A^T b~.\n",
        "$$\n",
        "Primeiramente, vejamos como permutar vetores."
      ]
    },
    {
      "cell_type": "code",
      "execution_count": 17,
      "metadata": {
        "colab": {
          "base_uri": "https://localhost:8080/"
        },
        "id": "cKMAi9A8NsWJ",
        "outputId": "31295f68-3d30-431e-8838-5979ce3ba90e"
      },
      "outputs": [
        {
          "name": "stdout",
          "output_type": "stream",
          "text": [
            "perm= [0 2 4 3 1]\n",
            "int64\n",
            "perm2= [1 3 2 0 4]\n",
            "int64\n",
            "inv_perm= [0 4 1 3 2]\n",
            "vector= [25 37 60 55 74]\n",
            "permuted vector= [25 74 37 55 60]\n",
            "unpermuted vector= [25 37 60 55 74]\n"
          ]
        }
      ],
      "source": [
        "import numpy as np\n",
        "rng=np.random.default_rng(7858477733)\n",
        "n=5\n",
        "vector=rng.integers(low=10,high=99,size=(n,))\n",
        "#Geração de uma permutação aleatória de [0,1,...,n-1]\n",
        "perm=np.arange(n)\n",
        "rng.shuffle(perm)\n",
        "print('perm=',perm)\n",
        "print(perm.dtype)\n",
        "#Outra maneira de gerar uma permutação\n",
        "perm2=np.random.permutation(n)\n",
        "print('perm2=',perm2)\n",
        "print(perm2.dtype)\n",
        "#Inverse permutation\n",
        "inv_perm=np.zeros(n).astype(int)\n",
        "inv_perm[perm]=np.arange(n)\n",
        "print('inv_perm=',inv_perm)\n",
        "print('vector=',vector)\n",
        "#Permuted vector\n",
        "permuted_vector=np.zeros(n).astype(int)\n",
        "permuted_vector[perm]=vector\n",
        "print('permuted vector=',permuted_vector)\n",
        "unpermuted_vector=np.zeros(n).astype(int)\n",
        "unpermuted_vector[inv_perm]=permuted_vector\n",
        "print('unpermuted vector=',unpermuted_vector)\n"
      ]
    },
    {
      "cell_type": "markdown",
      "metadata": {
        "id": "4nV946H0T_el"
      },
      "source": [
        "Agora, vejamos como realizar as mesmas operações com matrizes."
      ]
    },
    {
      "cell_type": "code",
      "execution_count": 18,
      "metadata": {
        "colab": {
          "base_uri": "https://localhost:8080/"
        },
        "id": "do07Sl2rULti",
        "outputId": "9407c9d9-3f94-41b4-ec0c-9483ae40b31e"
      },
      "outputs": [
        {
          "name": "stdout",
          "output_type": "stream",
          "text": [
            "Pperm=\n",
            "[[1 0 0 0 0]\n",
            " [0 0 0 0 1]\n",
            " [0 1 0 0 0]\n",
            " [0 0 0 1 0]\n",
            " [0 0 1 0 0]]\n",
            "Pinvperm=\n",
            "[[1 0 0 0 0]\n",
            " [0 0 1 0 0]\n",
            " [0 0 0 0 1]\n",
            " [0 0 0 1 0]\n",
            " [0 1 0 0 0]]\n",
            "[[ True  True  True  True  True]\n",
            " [ True  True  True  True  True]\n",
            " [ True  True  True  True  True]\n",
            " [ True  True  True  True  True]\n",
            " [ True  True  True  True  True]]\n",
            "[[1 0 0 0 0]\n",
            " [0 1 0 0 0]\n",
            " [0 0 1 0 0]\n",
            " [0 0 0 1 0]\n",
            " [0 0 0 0 1]]\n",
            "permuted vector2= [25 74 37 55 60]\n",
            "unpermuted vector2= [25 37 60 55 74]\n",
            "[ True  True  True  True  True]\n"
          ]
        }
      ],
      "source": [
        "Pperm=np.zeros((n,n)).astype(int)\n",
        "Pperm[perm,np.arange(n)]=1\n",
        "print('Pperm=')\n",
        "print(Pperm)\n",
        "Pinvperm=np.zeros((n,n)).astype(int)\n",
        "Pinvperm[inv_perm,np.arange(n)]=1\n",
        "print('Pinvperm=')\n",
        "print(Pinvperm)\n",
        "print(Pinvperm == Pperm.T)\n",
        "print(np.dot(Pperm,Pinvperm))\n",
        "permuted_vector2=np.dot(Pperm,vector)\n",
        "print('permuted vector2=',permuted_vector2)\n",
        "unpermuted_vector2=np.dot(Pinvperm,permuted_vector2)\n",
        "print('unpermuted vector2=',unpermuted_vector2)\n",
        "print(unpermuted_vector2==vector)"
      ]
    },
    {
      "cell_type": "markdown",
      "metadata": {
        "id": "NcOrbaxyIaPY"
      },
      "source": [
        "###Eliminação de Gauss (Escalonamento)"
      ]
    },
    {
      "cell_type": "markdown",
      "metadata": {
        "id": "_-HDN11qGn-B"
      },
      "source": [
        "O conhecido **algoritmo de escalonamento** aproveita que as seguintes operações não mudam a solução:\n",
        "\n",
        "*   Multiplicar uma equação por um escalar;\n",
        "*   Substituir uma equação pela soma dela mesma mais um múltiplo de qualquer outra equação;\n",
        "*   Trocar a ordem das equações.\n",
        "\n",
        "Na sua versão mais simples (sem pivotamento), pode ser programado da seguinte maneira:\n",
        "\n"
      ]
    },
    {
      "cell_type": "code",
      "execution_count": 19,
      "metadata": {
        "colab": {
          "base_uri": "https://localhost:8080/"
        },
        "id": "S6258tgnIsl4",
        "outputId": "7016945f-d9a3-4dcd-f4ff-138744cb31cb"
      },
      "outputs": [
        {
          "name": "stdout",
          "output_type": "stream",
          "text": [
            "[[ 2.38731922 -0.2061351   2.38870342]\n",
            " [-1.21693803 -0.05478392  0.23793818]\n",
            " [-0.09603232 -0.80832723  0.67288732]]\n",
            "[ 4.56988754 -1.03378377 -0.23147223]\n",
            "[1. 1. 1.]\n",
            "[[ 2.38731922 -0.2061351   2.38870342]\n",
            " [-0.50975086 -0.15986146  1.45558181]\n",
            " [-0.04022601  5.10829319 -6.66656334]]\n",
            "[ 4.56988754  1.29572035 -6.66656334]\n",
            "[[ 2.38731922 -0.2061351   2.38870342]\n",
            " [-1.21693803 -0.05478392  0.23793818]\n",
            " [-0.09603232 -0.80832723  0.67288732]]\n"
          ]
        }
      ],
      "source": [
        "import numpy as np\n",
        "def gauss(A, b):\n",
        "    n = b.shape[0]\n",
        "    x = np.zeros_like(b)\n",
        "    for k in range(n - 1):\n",
        "        if A[k, k] == 0.0:\n",
        "            raise ZeroDivisionError(\"Zero pivot\")\n",
        "        for i in range(k + 1, n):\n",
        "            A[i,k] = A[i,k] / A[k,k]\n",
        "            b[i] = b[i] - A[i,k] * b[k]\n",
        "            for j in range(k + 1, n):\n",
        "              A[i, j] = A[i,j] - A[i,k]*A[k,j]\n",
        "\n",
        "    x[-1] = b[-1] / A[-1, -1]\n",
        "\n",
        "    for i in range(n - 2, -1, -1):\n",
        "        x[i] = (b[i] - A[i, (i + 1) : n] @ x[(i + 1) : n]) / A[i, i]\n",
        "\n",
        "    return x, A, b\n",
        "\n",
        "A=np.random.randn(3,3)\n",
        "b=np.dot(A,np.array([1, 1, 1]))\n",
        "print(A)\n",
        "print(b)\n",
        "x, Atri, btri = gauss(A.copy(), b.copy())\n",
        "print(x)\n",
        "print(Atri)\n",
        "print(btri)\n",
        "print(A)"
      ]
    },
    {
      "cell_type": "markdown",
      "metadata": {
        "id": "xLbTtAvqIRtf"
      },
      "source": [
        "**Teorema:** Se a matriz $A$ é não singular (det$(A)\\neq 0$), a eliminação de Gauss (com pivotamento) determina a solução única do sistema linear."
      ]
    },
    {
      "cell_type": "markdown",
      "metadata": {
        "id": "2f59LfsBYM_4"
      },
      "source": [
        "###A fatoração LU"
      ]
    },
    {
      "cell_type": "markdown",
      "metadata": {
        "id": "K-0Ml9j-VzBh"
      },
      "source": [
        "Um ponto crucial do algoritmo de eliminação de Gauss é que ele determina uma fatoração de $A$, especificamente,\n",
        "\n",
        "$$\n",
        "A = L\\,U\n",
        "$$\n",
        "\n",
        "onde $L$ é triangular inferior (com 1 na diagonal) e $U$ é triangular superior.\n",
        "\n",
        "$~$\n",
        "\n",
        "Uma vez aplicado o algoritmo, a matriz resultante tem $U$ como sua parte triangular superior e $L$ como sua parte triangular inferior (sem a diagonal, que é 1).\n",
        "\n",
        "Verifiquemos:"
      ]
    },
    {
      "cell_type": "code",
      "execution_count": 20,
      "metadata": {
        "colab": {
          "base_uri": "https://localhost:8080/"
        },
        "id": "mH33axQgNt_o",
        "outputId": "cf8a17d4-b2f6-4c89-8ece-e2118c56fdcc"
      },
      "outputs": [
        {
          "name": "stdout",
          "output_type": "stream",
          "text": [
            "[[ 1.          0.          0.        ]\n",
            " [-0.50975086  1.          0.        ]\n",
            " [-0.04022601  5.10829319  1.        ]]\n",
            "[[ 2.38731922 -0.2061351   2.38870342]\n",
            " [ 0.         -0.15986146  1.45558181]\n",
            " [ 0.          0.         -6.66656334]]\n",
            "[[ 0.00000000e+00  0.00000000e+00  0.00000000e+00]\n",
            " [ 0.00000000e+00 -6.93889390e-18  1.11022302e-16]\n",
            " [ 0.00000000e+00  1.11022302e-16  4.44089210e-16]]\n"
          ]
        }
      ],
      "source": [
        "L=np.tril(Atri,-1)+np.eye(3)\n",
        "U=np.triu(Atri)\n",
        "print(L)\n",
        "print(U)\n",
        "print(L@U-A)"
      ]
    },
    {
      "cell_type": "markdown",
      "metadata": {
        "id": "5Q8SNVaGDa-3"
      },
      "source": [
        "Vamos definir uma função que simplesmente calcula a fatoração, sem resolver o sistema."
      ]
    },
    {
      "cell_type": "code",
      "execution_count": 21,
      "metadata": {
        "colab": {
          "base_uri": "https://localhost:8080/"
        },
        "id": "qV4xcEwpDtPR",
        "outputId": "b11c68e6-fb40-439b-c930-8762e68c55b8"
      },
      "outputs": [
        {
          "name": "stdout",
          "output_type": "stream",
          "text": [
            "[[-1.15987508 -1.69054898  0.56144285 -0.62476974 -0.41077385]\n",
            " [ 1.03944281  0.77800981  1.57077008 -0.88598868 -0.46471954]\n",
            " [-1.0110812   1.10032715 -0.18015244 -1.68426202 -1.52944993]\n",
            " [-0.53787846 -0.75075428 -0.2528802  -0.71520899  0.49072652]\n",
            " [ 0.26205169  1.75282127  0.28980674  0.83052988 -0.05232934]]\n",
            "[[ 1.          0.          0.          0.          0.        ]\n",
            " [-0.89616789  1.          0.          0.          0.        ]\n",
            " [ 0.8717156  -3.49251615  1.          0.          0.        ]\n",
            " [ 0.46373827 -0.04507152 -0.06385648  1.          0.        ]\n",
            " [-0.22593096 -1.86005823  0.65021432 -2.2851712   1.        ]]\n",
            "[[-1.15987508 -1.69054898  0.56144285 -0.62476974 -0.41077385]\n",
            " [ 0.         -0.73700592  2.07391714 -1.44588726 -0.83284187]\n",
            " [ 0.          0.          6.57361816 -6.1894251  -4.08008564]\n",
            " [ 0.          0.          0.         -0.88588261  0.38314071]\n",
            " [ 0.          0.          0.          0.          1.834202  ]]\n",
            "[[ 0.00000000e+00  0.00000000e+00  0.00000000e+00  0.00000000e+00\n",
            "   0.00000000e+00]\n",
            " [ 0.00000000e+00  0.00000000e+00  0.00000000e+00 -1.11022302e-16\n",
            "   5.55111512e-17]\n",
            " [ 0.00000000e+00  2.22044605e-16 -1.38777878e-16 -2.22044605e-16\n",
            "   6.66133815e-16]\n",
            " [ 0.00000000e+00  0.00000000e+00  0.00000000e+00  0.00000000e+00\n",
            "  -5.55111512e-17]\n",
            " [ 0.00000000e+00  0.00000000e+00 -1.66533454e-16  2.22044605e-16\n",
            "  -2.56739074e-16]]\n"
          ]
        }
      ],
      "source": [
        "import numpy as np\n",
        "def fatorLU(A):\n",
        "  n,m = A.shape\n",
        "  if n != m:\n",
        "    raise ValueError(\"A deve ser quadrada\")\n",
        "  for k in range(n - 1):\n",
        "    if A[k, k] == 0.0:\n",
        "      raise ZeroDivisionError(\"Zero pivot\")\n",
        "    for i in range(k + 1, n):\n",
        "      A[i,k] = A[i,k] / A[k,k]\n",
        "      for j in range(k + 1, n):\n",
        "        A[i, j] = A[i,j] - A[i,k]*A[k,j]\n",
        "  L=np.tril(A,-1)+np.eye(n)\n",
        "  U=np.triu(A)\n",
        "  return L, U\n",
        "\n",
        "rng=np.random.default_rng()\n",
        "n=5\n",
        "A=rng.standard_normal((n,n))\n",
        "print(A)\n",
        "L, U = fatorLU(A.copy())\n",
        "print(L)\n",
        "print(U)\n",
        "print(L@U-A)\n",
        "\n"
      ]
    },
    {
      "cell_type": "markdown",
      "metadata": {
        "id": "xPh_Q4NXGRG9"
      },
      "source": [
        "###O método de fatorar-resolver"
      ]
    },
    {
      "cell_type": "markdown",
      "metadata": {
        "id": "LB5XJRZAGWJI"
      },
      "source": [
        "Se se dispõe de uma fatoração $A=BC$, onde $B$ e $C$ são matrizes fáceis de resolver, o cálculo da solução $x$ tal que $Ax=b$ se simplifica:\n",
        "\n",
        "\n",
        "*   Passo 1: Calcular $z$ resolvendo $Bz=b$.\n",
        "*   Passo 2: Calcular $x$ tal que $Cx=z$.\n",
        "\n",
        "Assim, $b=Bz=BCx=Ax$.\n",
        "\n",
        "Acima, já temos programado uma função que calcula a fatoração $A=LU$, outra que resolve matrizes triangulares inferiores como $L$, outra que resolve matrizes triangulares superiores como $U$. Combinemos elas para resolver o sistema.\n",
        "\n"
      ]
    },
    {
      "cell_type": "code",
      "execution_count": 22,
      "metadata": {
        "colab": {
          "base_uri": "https://localhost:8080/"
        },
        "id": "JJsfrawJKRi3",
        "outputId": "c5b5f725-7b4e-4900-cac6-0cb10657a060"
      },
      "outputs": [
        {
          "name": "stdout",
          "output_type": "stream",
          "text": [
            "[[ 0.74452319 -0.38186245  1.21088761  1.3547935   0.82526808]\n",
            " [ 0.76835596 -0.36494453  1.02394068  1.12550734 -0.14667707]\n",
            " [ 0.87411577 -0.13479234  2.58213183 -1.15357403  0.52710437]\n",
            " [-0.07494349  1.10171718 -0.48522067 -1.08922147 -0.94853632]\n",
            " [-0.62776918 -0.60078949 -1.00013375 -0.72837655  1.07274834]]\n",
            "[ 3.75360993  2.40618238  2.6949856  -1.49620477 -1.88432064]\n",
            "[1. 1. 1. 1. 1.]\n"
          ]
        }
      ],
      "source": [
        "import numpy as np\n",
        "rng=np.random.default_rng()\n",
        "n=5\n",
        "A=rng.standard_normal((n,n))\n",
        "b=np.dot(A,np.array(n*[1]))\n",
        "print(A)\n",
        "print(b)\n",
        "L, U = fatorLU(A.copy())\n",
        "z=triangular_inferior(L,b)\n",
        "x=triangular_superior(U,z)\n",
        "print(x)"
      ]
    },
    {
      "cell_type": "markdown",
      "metadata": {
        "id": "uhWmSSDXYhQW"
      },
      "source": [
        "O custo computacional (número de operações) está concentrado no cálculo dos fatores triangulares, que só dependem da matriz do sistema. Se se deseja resolver o sistema muitas vezes com vários lados direitos, a fatoração pode ser feita apenas uma vez.\n",
        "\n",
        "Quando a matriz $A$ é simétrica e definida positiva existe a fatoração de Choleski, que é da forma\n",
        "$$\n",
        "A = LL^T~,\n",
        "$$\n",
        "com $L$ triangular inferior.\n",
        "\n",
        "Essa fatoração é muito utilizada em cálculo numérico pela sua eficiência (apenas uma matriz triangular a armazenar!).\n",
        "\n",
        "Ela é também muito importante em ciência de dados, onde a matriz de covariância de uma distribuição Gaussiana multivariada é simétrica e definida positiva."
      ]
    },
    {
      "cell_type": "markdown",
      "metadata": {
        "id": "ndoEWjI9JZqS"
      },
      "source": [
        "###Custos da resolução"
      ]
    },
    {
      "cell_type": "markdown",
      "metadata": {
        "id": "RV_e13WOJeiL"
      },
      "source": [
        "\n",
        "* O custo (em operações de ponto flutuante) de resolver um sistema diagonal é $\\sim n$ (uma multiplicação por linha).\n",
        "* Se o sistema é triangular: $\\sim n^2$.\n",
        "* Se o sistema é ortogonal: $\\sim 2n^2$ (custo do produto matriz-vetor).\n",
        "* O custo da fatoração LU é: $\\sim \\frac23 n^3$.\n",
        "* Assim, o custo de resolver uma matriz com $d$ lados direitos é: $\\sim \\frac23 n^3 + d\\,n^2$.\n",
        "\n",
        "$~$\n",
        "\n",
        "Esses custos são para matrizes \"cheias\", se elas são esparsas o custo pode ser muito menor. Por exemplo, para matrizes de elementos finitos é frequente observar custos $\\sim n^{2.3}$."
      ]
    },
    {
      "cell_type": "markdown",
      "metadata": {
        "id": "3YY5ijXieaE3"
      },
      "source": [
        "###Resolvedores em Numpy e Scipy"
      ]
    },
    {
      "cell_type": "markdown",
      "metadata": {
        "id": "Sk5Qya_sepS8"
      },
      "source": [
        "**numpy.linalg.solve** / **scipy.linalg.solve**\n",
        "\n"
      ]
    },
    {
      "cell_type": "code",
      "execution_count": 23,
      "metadata": {
        "colab": {
          "base_uri": "https://localhost:8080/"
        },
        "id": "wq-d2BpJf6xI",
        "outputId": "7d53f0a3-ae46-46f4-af41-ba07cb891d71"
      },
      "outputs": [
        {
          "ename": "ModuleNotFoundError",
          "evalue": "No module named 'scipy'",
          "output_type": "error",
          "traceback": [
            "\u001b[0;31m---------------------------------------------------------------------------\u001b[0m",
            "\u001b[0;31mModuleNotFoundError\u001b[0m                       Traceback (most recent call last)",
            "Cell \u001b[0;32mIn[23], line 2\u001b[0m\n\u001b[1;32m      1\u001b[0m \u001b[38;5;28;01mimport\u001b[39;00m \u001b[38;5;21;01mnumpy\u001b[39;00m \u001b[38;5;28;01mas\u001b[39;00m \u001b[38;5;21;01mnp\u001b[39;00m\n\u001b[0;32m----> 2\u001b[0m \u001b[38;5;28;01mimport\u001b[39;00m \u001b[38;5;21;01mscipy\u001b[39;00m \u001b[38;5;28;01mas\u001b[39;00m \u001b[38;5;21;01msp\u001b[39;00m\n\u001b[1;32m      4\u001b[0m A \u001b[38;5;241m=\u001b[39m np\u001b[38;5;241m.\u001b[39marray([[\u001b[38;5;241m1\u001b[39m, \u001b[38;5;241m2\u001b[39m], [\u001b[38;5;241m3\u001b[39m, \u001b[38;5;241m5\u001b[39m]])\n\u001b[1;32m      5\u001b[0m b \u001b[38;5;241m=\u001b[39m np\u001b[38;5;241m.\u001b[39marray([\u001b[38;5;241m1\u001b[39m, \u001b[38;5;241m2\u001b[39m])\n",
            "\u001b[0;31mModuleNotFoundError\u001b[0m: No module named 'scipy'"
          ]
        }
      ],
      "source": [
        "import numpy as np\n",
        "import scipy as sp\n",
        "\n",
        "A = np.array([[1, 2], [3, 5]])\n",
        "b = np.array([1, 2])\n",
        "\n",
        "x = np.linalg.solve(A, b)\n",
        "x2 = sp.linalg.solve(A, b)\n",
        "print(x)\n",
        "print(x2)\n",
        "\n",
        "#Check that the solution is correct:\n",
        "\n",
        "print(np.allclose(np.dot(A, x), b))\n",
        "print(np.allclose(np.dot(A, x2), b))\n"
      ]
    },
    {
      "cell_type": "markdown",
      "metadata": {
        "id": "EylRhwB4g_MZ"
      },
      "source": [
        "**scipy.linalg.lu**\n",
        "\n",
        "Calcula decomposição $A=PLU$, onde $P$ é uma permutação obtida com pivotamento parcial, $L$ é triangular inferior unitária, $U$ es triangular superior."
      ]
    },
    {
      "cell_type": "code",
      "execution_count": null,
      "metadata": {
        "colab": {
          "base_uri": "https://localhost:8080/"
        },
        "id": "oBT1kK8QhEYb",
        "outputId": "7de0c692-1af8-4f25-94ea-a91fb0ebc2d9"
      },
      "outputs": [
        {
          "name": "stdout",
          "output_type": "stream",
          "text": [
            "True\n"
          ]
        }
      ],
      "source": [
        "P,L,U = sp.linalg.lu(A)\n",
        "B=np.dot(P,L)\n",
        "B=np.dot(B,U)\n",
        "print(np.allclose(B,A))"
      ]
    },
    {
      "cell_type": "markdown",
      "metadata": {
        "id": "LZl-y1VgZl9W"
      },
      "source": [
        "**scipy.linalg.solve_triangular**\n",
        "\n",
        "$PLUx=b \\Rightarrow Py=b,\\quad Lz=y,  \\quad Ux=z$"
      ]
    },
    {
      "cell_type": "code",
      "execution_count": null,
      "metadata": {
        "colab": {
          "base_uri": "https://localhost:8080/"
        },
        "id": "uz4potpdZlZQ",
        "outputId": "43f54879-0953-4f56-cf4c-65133c9162bc"
      },
      "outputs": [
        {
          "name": "stdout",
          "output_type": "stream",
          "text": [
            "[-1.  1.]\n"
          ]
        }
      ],
      "source": [
        "y=np.dot(P.T,b)\n",
        "z=sp.linalg.solve_triangular(L,y,lower=True)\n",
        "x=sp.linalg.solve_triangular(U,z,lower=False)\n",
        "print(x)"
      ]
    },
    {
      "cell_type": "markdown",
      "metadata": {
        "id": "cQAfaj21ZxPk"
      },
      "source": [
        "###Exercício"
      ]
    },
    {
      "cell_type": "markdown",
      "metadata": {
        "id": "YiMcRcW0Z5yb"
      },
      "source": [
        "Comparar o tempo de resolver o sistema com a função `gauss` e com a fatoração LU, para vários valores de $n$ e considerando que devem ser resolvidos muitos lados direitos."
      ]
    },
    {
      "cell_type": "code",
      "execution_count": null,
      "metadata": {
        "colab": {
          "base_uri": "https://localhost:8080/"
        },
        "id": "aB3ikt14aqzL",
        "outputId": "046de25c-92e4-4c11-bbf5-72ea76d99673"
      },
      "outputs": [
        {
          "name": "stdout",
          "output_type": "stream",
          "text": [
            "Algoritmo de Gauss: 0.005364179611206055\n",
            "Algoritmo LU: 0.005704641342163086\n",
            "numpy.linalg.solve: 0.0004990100860595703\n"
          ]
        }
      ],
      "source": [
        "import numpy as np\n",
        "import time\n",
        "rng=np.random.default_rng()\n",
        "n=12\n",
        "A=rng.standard_normal(size=(n,n))\n",
        "start_time=time.time()\n",
        "for k in range(10): ## número de lados direitos\n",
        "  b=rng.standard_normal(size=(n,))\n",
        "  x, Atri, btri = gauss(A.copy(),b.copy())\n",
        "  #print(np.linalg.norm(x-np.linalg.solve(A,b)))\n",
        "end_time = time.time()\n",
        "print('Algoritmo de Gauss:',end_time-start_time)\n",
        "start_time=time.time()\n",
        "L, U = fatorLU(A.copy())\n",
        "for k in range(10): ## número de lados direitos\n",
        "  b=rng.standard_normal(size=(n,))\n",
        "  z=triangular_inferior(L,b)\n",
        "  x=triangular_superior(U,z)\n",
        "  #print(np.linalg.norm(x-np.linalg.solve(A,b)))\n",
        "end_time = time.time()\n",
        "print('Algoritmo LU:',end_time-start_time)\n",
        "start_time=time.time()\n",
        "for k in range(10): ## número de lados direitos\n",
        "  b=rng.standard_normal(size=(n,))\n",
        "  x=np.linalg.solve(A,b)\n",
        "end_time = time.time()\n",
        "print('numpy.linalg.solve:',end_time-start_time)\n",
        "\n"
      ]
    },
    {
      "cell_type": "code",
      "execution_count": null,
      "metadata": {
        "id": "TB7nRIUPNlAu"
      },
      "outputs": [],
      "source": [
        "nn=np.array([12,25,50,100])\n",
        "gauss=np.array([0.0074,0.0391,0.305,3.08])"
      ]
    }
  ],
  "metadata": {
    "colab": {
      "provenance": []
    },
    "kernelspec": {
      "display_name": "Python 3",
      "name": "python3"
    },
    "language_info": {
      "codemirror_mode": {
        "name": "ipython",
        "version": 3
      },
      "file_extension": ".py",
      "mimetype": "text/x-python",
      "name": "python",
      "nbconvert_exporter": "python",
      "pygments_lexer": "ipython3",
      "version": "3.10.12"
    }
  },
  "nbformat": 4,
  "nbformat_minor": 0
}
